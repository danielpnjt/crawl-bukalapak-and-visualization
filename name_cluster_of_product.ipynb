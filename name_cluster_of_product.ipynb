{
  "nbformat": 4,
  "nbformat_minor": 0,
  "metadata": {
    "colab": {
      "name": "name_cluster.ipynb",
      "provenance": [],
      "collapsed_sections": []
    },
    "kernelspec": {
      "name": "python3",
      "display_name": "Python 3"
    },
    "language_info": {
      "name": "python"
    }
  },
  "cells": [
    {
      "cell_type": "code",
      "execution_count": null,
      "metadata": {
        "id": "BSUCmMpFMOqG"
      },
      "outputs": [],
      "source": [
        "import pandas as pd\n",
        "import numpy as np\n",
        "from matplotlib import pyplot as plt\n",
        "%matplotlib inline\n",
        "\n",
        "#Libraries for preprocessing\n",
        "from gensim.parsing.preprocessing import remove_stopwords\n",
        "import string\n",
        "\n",
        "#Libraries for vectorisation\n",
        "from sklearn.feature_extraction.text import TfidfVectorizer\n",
        "\n",
        "#Libraries for clustering\n",
        "from sklearn.cluster import KMeans\n"
      ]
    },
    {
      "cell_type": "code",
      "source": [
        "# prepare data\n",
        "df = pd.read_json('data_bukalapak.json')\n",
        "\n",
        "text1 = df['name']\n",
        "\n",
        "text2 = [remove_stopwords(x)\\\n",
        "        .translate(str.maketrans('','',string.punctuation))\\\n",
        "        .translate(str.maketrans('','',string.digits))\\\n",
        "        for x in text1]\n",
        "\n",
        "text3 = []\n",
        "for word in text2:\n",
        "  words = word.lower()\n",
        "  words = words.replace('  ', ' ')\n",
        "  text3.append(words)\n",
        "text3 = pd.Series(text3)"
      ],
      "metadata": {
        "id": "aG9ftO4iMXLP"
      },
      "execution_count": null,
      "outputs": []
    },
    {
      "cell_type": "code",
      "source": [
        "# convert to vektor\n",
        "vectorizer = TfidfVectorizer(stop_words={'word'})\n",
        "X = vectorizer.fit_transform(text3)"
      ],
      "metadata": {
        "id": "1yc32v6TMp-2"
      },
      "execution_count": null,
      "outputs": []
    },
    {
      "cell_type": "code",
      "source": [
        "# search the elbow for knowing the n_cluster\n",
        "sse={}\n",
        "for k in np.arange(100,1000,100):\n",
        "    kmeans = KMeans(n_clusters=k, max_iter=1000).fit(X)\n",
        "    sse[k] = kmeans.inertia_\n",
        "plt.plot(list(sse.keys()),list(sse.values()))\n",
        "plt.xlabel('Values for K')\n",
        "plt.ylabel('SSE')\n",
        "plt.show();"
      ],
      "metadata": {
        "colab": {
          "base_uri": "https://localhost:8080/",
          "height": 279
        },
        "id": "6XkKZ8vsfd59",
        "outputId": "ecc3f71c-ed34-469f-e0c8-6cd51b24169d"
      },
      "execution_count": null,
      "outputs": [
        {
          "output_type": "display_data",
          "data": {
            "image/png": "[encoded data removed]",
            "text/plain": [
              "<Figure size 432x288 with 1 Axes>"
            ]
          },
          "metadata": {
            "needs_background": "light"
          }
        }
      ]
    },
    {
      "cell_type": "code",
      "source": [
        "kmeans = KMeans(n_clusters=200)\n",
        "kmeans.fit(X)\n",
        "result = pd.concat([text1,pd.DataFrame(X.toarray(),columns=vectorizer.get_feature_names())],axis=1)\n",
        "result['cluster'] = kmeans.predict(X)"
      ],
      "metadata": {
        "id": "KGV8rq8gxZXl",
        "colab": {
          "base_uri": "https://localhost:8080/"
        },
        "outputId": "dda31bd4-4920-4cb6-877c-fb3491dc413e"
      },
      "execution_count": null,
      "outputs": [
        {
          "output_type": "stream",
          "name": "stderr",
          "text": [
            "/usr/local/lib/python3.7/dist-packages/sklearn/utils/deprecation.py:87: FutureWarning: Function get_feature_names is deprecated; get_feature_names is deprecated in 1.0 and will be removed in 1.2. Please use get_feature_names_out instead.\n",
            "  warnings.warn(msg, category=FutureWarning)\n"
          ]
        }
      ]
    },
    {
      "cell_type": "code",
      "source": [
        "print(kmeans.inertia_)"
      ],
      "metadata": {
        "colab": {
          "base_uri": "https://localhost:8080/"
        },
        "id": "8xC-awf3gk0J",
        "outputId": "63e66319-5aaf-4c87-e598-d3907c1b2836"
      },
      "execution_count": null,
      "outputs": [
        {
          "output_type": "stream",
          "name": "stdout",
          "text": [
            "1973.9130470908876\n"
          ]
        }
      ]
    },
    {
      "cell_type": "code",
      "source": [
        "result = result[['name', 'cluster']]\n",
        "result.to_json('cluster_data_bukalapak.json')"
      ],
      "metadata": {
        "id": "O_rsgzs7SSnI"
      },
      "execution_count": null,
      "outputs": []
    },
    {
      "cell_type": "code",
      "source": [
        ""
      ],
      "metadata": {
        "id": "OWVkSfUlcaMH"
      },
      "execution_count": null,
      "outputs": []
    }
  ]
}